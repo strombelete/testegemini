{
  "nbformat": 4,
  "nbformat_minor": 0,
  "metadata": {
    "colab": {
      "provenance": [],
      "authorship_tag": "ABX9TyOrvcDcMKKpNnFFARD19J9E",
      "include_colab_link": true
    },
    "kernelspec": {
      "name": "python3",
      "display_name": "Python 3"
    },
    "language_info": {
      "name": "python"
    }
  },
  "cells": [
    {
      "cell_type": "markdown",
      "metadata": {
        "id": "view-in-github",
        "colab_type": "text"
      },
      "source": [
        "<a href=\"https://colab.research.google.com/github/strombelete/testegemini/blob/main/Teste%20Agencia.ipynb\" target=\"_parent\"><img src=\"https://colab.research.google.com/assets/colab-badge.svg\" alt=\"Open In Colab\"/></a>"
      ]
    },
    {
      "cell_type": "code",
      "source": [
        "!pip install -q -U google-generativeai"
      ],
      "metadata": {
        "id": "okjpONfYS-Fh"
      },
      "execution_count": 3,
      "outputs": []
    },
    {
      "cell_type": "code",
      "source": [
        "import nltk\n",
        "from nltk.stem import PorterStemmer\n",
        "nltk.download('punkt')\n",
        "nltk.download('averaged_perceptron_tagger')\n",
        "\n",
        "stemmer = PorterStemmer()\n"
      ],
      "metadata": {
        "colab": {
          "base_uri": "https://localhost:8080/"
        },
        "id": "U-HW3bQAUFq8",
        "outputId": "741420dc-5c82-4f62-d40d-34a51c6c0b4c"
      },
      "execution_count": 6,
      "outputs": [
        {
          "output_type": "stream",
          "name": "stderr",
          "text": [
            "[nltk_data] Downloading package punkt to /root/nltk_data...\n",
            "[nltk_data]   Unzipping tokenizers/punkt.zip.\n",
            "[nltk_data] Downloading package averaged_perceptron_tagger to\n",
            "[nltk_data]     /root/nltk_data...\n",
            "[nltk_data]   Unzipping taggers/averaged_perceptron_tagger.zip.\n"
          ]
        }
      ]
    },
    {
      "cell_type": "code",
      "source": [
        "import google.generativeai as genai\n",
        "\n",
        "GOOGLE_API_KEY=\"apikey\"\n",
        "genai.configure(api_key=GOOGLE_API_KEY)"
      ],
      "metadata": {
        "id": "RDIugyjfS7R4"
      },
      "execution_count": 10,
      "outputs": []
    },
    {
      "cell_type": "code",
      "source": [
        "# Define tour information\n",
        "tours = {\n",
        "    \"Climbing\": {\n",
        "        \"Climbing Experience Tour for First Timers\": {\n",
        "            \"description\": \"Perfect for beginners! Learn the basics of climbing with experienced guides in a safe and stunning setting. We'll provide all the equipment and take you to a beginner-friendly spot with incredible views.\",\n",
        "            \"difficulty\": \"Beginner\",\n",
        "            \"duration\": \"Half-day\",\n",
        "        },\n",
        "        \"Coringa Tour\": {\n",
        "            \"description\": \"Enjoy a scenic climb with moderate difficulty, suitable for those with some climbing experience. Coringa offers a variety of routes with beautiful natural landscapes.\",\n",
        "            \"difficulty\": \"Easy\",\n",
        "            \"duration\": \"Half-day\",\n",
        "        },\n",
        "        \"Babilonia Climb Tour\": {\n",
        "            \"description\": \"Climb Babilonia with an incredible view of the iconic Sugarloaf Mountain. This tour requires basic climbing skills and includes a thrilling ascent to the top.\",\n",
        "            \"difficulty\": \"Easy\",\n",
        "            \"duration\": \"Half-day\",\n",
        "        },\n",
        "        \"Italianos Route\": {\n",
        "            \"description\": \"A more challenging climb up the Sugarloaf with technical sections, suitable for experienced climbers. The Italianos Route is known for its unique rock formations and rewarding views.\",\n",
        "            \"difficulty\": \"Intermediate\",\n",
        "            \"duration\": \"Full-day\",\n",
        "        },\n",
        "        \"K2 Route\": {\n",
        "            \"description\": \"Climb to the Christ the Redeemer. Push your limits with this demanding climb requiring advanced skills and stamina. K2 is a serious challenge for experienced climbers seeking an adrenaline rush.\",\n",
        "            \"difficulty\": \"Hard\",\n",
        "            \"duration\": \"Full-day\",\n",
        "        },\n",
        "    },\n",
        "    \"Hiking\": {\n",
        "        \"Pedra Bonita\": {\n",
        "            \"description\": \"Enjoy a leisurely hike with stunning views of Rio. This short but rewarding trail is perfect for a half-day adventure and offers panoramic views of the city.\",\n",
        "            \"difficulty\": \"Beginner\",\n",
        "            \"duration\": \"Half-day\",\n",
        "        },\n",
        "        \"Pedra da Gavea\": {\n",
        "            \"description\": \"Challenge yourself with this rewarding hike to the top of Pedra da Gavea. This challenging but rewarding hike leads to one of Rio's most iconic peaks, offering breathtaking views of the coastline.\",\n",
        "            \"difficulty\": \"Intermediate\",\n",
        "            \"duration\": \"Full-day\",\n",
        "        },\n",
        "        \"Serra dos Órgãos\": {\n",
        "            \"description\": \"Embark on a multi-day trekking adventure through the breathtaking Serra dos Órgãos National Park. This immersive experience will take you through lush forests, waterfalls, and stunning mountain scenery.\",\n",
        "            \"difficulty\": \"Advanced\",\n",
        "            \"duration\": \"Multi-day\",\n",
        "        },\n",
        "        \"Wild Beaches Hike + Pedra do Telegrafo\": {\n",
        "            \"description\": \"Combine a scenic hike along wild beaches with a visit to the iconic Pedra do Telegrafo. This full-day adventure includes stunning coastal views and the opportunity to take that famous photo at Pedra do Telegrafo.\",\n",
        "            \"difficulty\": \"Beginner\",\n",
        "            \"duration\": \"Full-day\",\n",
        "        },\n",
        "    },\n",
        "    \"City Tour\": {\n",
        "        \"Historical Rio de Janeiro\": {\n",
        "            \"description\": \"Explore the historic neighborhoods of Rio, including the charming Santa Teresa district and its colonial architecture. Discover hidden gems, vibrant street art, and local culture.\",\n",
        "            \"duration\": \"Half-day\"\n",
        "        },\n",
        "        \"Sugarloaf Cable Car Ride\": {\n",
        "            \"description\": \"Ascend to the top of Sugarloaf Mountain via cable car for breathtaking panoramic views of the city. Enjoy a thrilling ride and capture unforgettable photos from the summit.\",\n",
        "            \"duration\": \"Half-day\"\n",
        "        },\n",
        "        \"Christ the Redeemer\": {\n",
        "            \"description\": \"Visit the iconic Christ the Redeemer statue atop Corcovado Mountain for awe-inspiring views. Experience the spiritual significance and cultural importance of this landmark.\",\n",
        "            \"duration\": \"Half-day\"\n",
        "        },\n",
        "        \"Tijuca National Park Tour\": {\n",
        "            \"description\": \"Discover the lush rainforest within Tijuca National Park, home to diverse flora and fauna. Explore hidden waterfalls, scenic trails, and learn about the park's rich biodiversity.\",\n",
        "            \"duration\": \"Half-day\"\n",
        "        },\n",
        "    },\n",
        "    \"Water Activities\": {\n",
        "        \"Scuba Diving\": {\n",
        "            \"description\": \"Explore the underwater world with a full-day scuba diving trip to Arraial do Cabo. Discover colorful reefs, diverse marine life, and crystal-clear waters. No prior experience is necessary, as our certified instructors will guide you.\",\n",
        "            \"duration\": \"Full-day\"\n",
        "        },\n",
        "        \"Rafting\": {\n",
        "            \"description\": \"Experience an adrenaline-pumping rafting adventure in Lumiar. Navigate exhilarating rapids and enjoy stunning natural scenery. Our experienced guides will ensure a safe and unforgettable experience.\",\n",
        "            \"duration\": \"Full-day\"\n",
        "        },\n",
        "        \"Kayak Tour in Rio\": {\n",
        "            \"description\": \"Enjoy a scenic kayak tour along Rio's coastline. Explore hidden coves, admire iconic landmarks from a unique perspective, and enjoy the tranquility of the water. No prior experience is necessary.\",\n",
        "            \"duration\": \"Half-day\"\n",
        "        },\n",
        "    },\n",
        "}\n",
        "\n",
        "# Chatbot interaction\n",
        "print(\"Welcome to Itaway Ecotours! My name is EcoBot, what's your name?\")\n",
        "customer_name = input()\n",
        "print(f\"Thanks, {customer_name}. What kind of adventure are you hoping for in Rio?\")\n",
        "print(\"We have amazing options for climbing, hiking, city tours, and water activities. Which of these sounds most exciting to you?\")\n",
        "\n",
        "# Get customer's activity choice\n",
        "while True:\n",
        "  activity_choice = input().lower()\n",
        "  if activity_choice in [\"climbing\", \"hiking\", \"city tours\", \"water activities\"]:\n",
        "    break\n",
        "  else:\n",
        "    print(\"Please choose from: climbing, hiking, city tours, or water activities.\")\n",
        "\n",
        "# Climbing logic\n",
        "if activity_choice == \"climbing\":\n",
        "    print(\"Excellent choice! What's your climbing grade and do you have any prior experience?\")\n",
        "    experience = input().lower()\n",
        "    if \"no\" in experience:\n",
        "        recommended_tour = \"Climbing Experience Tour for First Timers\"\n",
        "    elif \"beginner\" in experience or \"easy\" in experience:\n",
        "        recommended_tour = \"Coringa Tour\"\n",
        "    elif \"intermediate\" in experience:\n",
        "        recommended_tour = \"Italianos Route\"\n",
        "    else:\n",
        "        recommended_tour = \"Contact us for more challenging climbs!\"\n",
        "    print(f\"I recommend the {recommended_tour}: {tours['Climbing'][recommended_tour]['description']}\")\n",
        "\n",
        "# Hiking logic\n",
        "elif activity_choice == \"hiking\":\n",
        "    print(\"Rio's natural beauty is perfect for hiking! Are you interested in a full-day, half-day, or multi-day hike?\")\n",
        "    duration_choice = input().lower()\n",
        "    experience = input(\"What is your experience level (beginner, intermediate, advanced)? \").lower()\n",
        "    if duration_choice == \"half-day\" and experience == \"beginner\":\n",
        "        recommended_tour = \"Pedra Bonita\"\n",
        "    elif duration_choice == \"full-day\" and experience == \"beginner\":\n",
        "        recommended_tour = \"Wild Beaches Hike + Pedra do Telegrafo\"\n",
        "    elif duration_choice == \"full-day\" and experience == \"intermediate\":\n",
        "        recommended_tour = \"Pedra da Gavea\"\n",
        "    elif duration_choice == \"multi-day\" and experience == \"advanced\":\n",
        "        recommended_tour = \"Serra dos Órgãos\"\n",
        "    else:\n",
        "        recommended_tour = \"Contact us for more personalized hiking recommendations!\"\n",
        "    print(f\"I recommend the {recommended_tour}: {tours['Hiking'][recommended_tour]['description']}\")\n",
        "\n",
        "# City Tour logic\n",
        "elif activity_choice == \"city tours\":\n",
        "    print(\"Rio has so much history and culture to explore! What are you most interested in seeing? (Historical Rio, Sugarloaf, Christ the Redeemer, Tijuca Park)\")\n",
        "    interest = input().lower()\n",
        "    if \"historical\" in interest:\n",
        "        recommended_tour = \"Historical Rio de Janeiro\"\n",
        "    elif \"sugarloaf\" in interest:\n",
        "        recommended_tour = \"Sugarloaf Cable Car Ride\"\n",
        "    elif \"christ\" in interest or \"redeemer\" in interest:\n",
        "        recommended_tour = \"Christ the Redeemer\"\n",
        "    elif \"tijuca\" in interest or \"park\" in interest:\n",
        "        recommended_tour = \"Tijuca National Park Tour\"\n",
        "    else:\n",
        "        recommended_tour = \"Contact us for more personalized city tour options!\"\n",
        "    print(f\"I recommend the {recommended_tour}: {tours['City Tour'][recommended_tour]['description']}\")\n",
        "\n",
        "# Water Activities logic\n",
        "elif activity_choice == \"water activities\":\n",
        "    print(\"Ready to dive into some water adventures? We offer: Scuba Diving, Rafting, and Kayak Tours.\")\n",
        "    print(\"Which one are you most interested in?\")\n",
        "    water_choice = input().lower()\n",
        "    if \"scuba\" in water_choice:\n",
        "        recommended_tour = \"Scuba Diving\"\n",
        "    elif \"rafting\" in water_choice:\n",
        "        recommended_tour = \"Rafting\"\n",
        "    elif \"kayak\" in water_choice:\n",
        "        recommended_tour = \"Kayak Tour in Rio\"\n",
        "    else:\n",
        "        recommended_tour = \"Contact us for more personalized water activity options!\"\n",
        "    print(f\"I recommend the {recommended_tour}: {tours['Water Activities'][recommended_tour]['description']}\")\n",
        "\n",
        "# Handling Unsuitable Recommendations\n",
        "print(\"If you'd like something more personalized, we specialize in crafting tailor-made experiences. What are some activities or themes you're most passionate about? Let's create something special just for you!\")\n",
        "\n",
        "print(\"Thanks for chatting with me, and I hope you have a wonderful adventure in Rio!\")"
      ],
      "metadata": {
        "colab": {
          "base_uri": "https://localhost:8080/"
        },
        "id": "4fyHFxHbb3hV",
        "outputId": "c3bf9ad5-a218-4915-b35f-085a0d627d2c"
      },
      "execution_count": 11,
      "outputs": [
        {
          "output_type": "stream",
          "name": "stdout",
          "text": [
            "Welcome to Itaway Ecotours! My name is EcoBot, what's your name?\n",
            "Felipe\n",
            "Thanks, Felipe. What kind of adventure are you hoping for in Rio?\n",
            "We have amazing options for climbing, hiking, city tours, and water activities. Which of these sounds most exciting to you?\n",
            "city tour\n",
            "Please choose from: climbing, hiking, city tours, or water activities.\n",
            "city tours\n",
            "Rio has so much history and culture to explore! What are you most interested in seeing? (Historical Rio, Sugarloaf, Christ the Redeemer, Tijuca Park)\n",
            "Historical Rio\n",
            "I recommend the Historical Rio de Janeiro: Explore the historic neighborhoods of Rio, including the charming Santa Teresa district and its colonial architecture. Discover hidden gems, vibrant street art, and local culture.\n",
            "If you'd like something more personalized, we specialize in crafting tailor-made experiences. What are some activities or themes you're most passionate about? Let's create something special just for you!\n",
            "Thanks for chatting with me, and I hope you have a wonderful adventure in Rio!\n"
          ]
        }
      ]
    }
  ]
}